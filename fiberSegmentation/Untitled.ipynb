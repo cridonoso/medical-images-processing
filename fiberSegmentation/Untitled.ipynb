{
 "cells": [
  {
   "cell_type": "code",
   "execution_count": 1,
   "metadata": {},
   "outputs": [],
   "source": [
    "from read_write_bundles import *\n",
    "import tensorflow as tf\n",
    "import numpy as np\n",
    "from time import time"
   ]
  },
  {
   "cell_type": "code",
   "execution_count": 2,
   "metadata": {},
   "outputs": [],
   "source": [
    "path = 'atlas_faisceaux_MNI/atlas_AR_ANT_LEFT_MNI.bundles'\n",
    "path2 = 'whole_brain_MNI_100k_21p.bundles'\n",
    "whole_brain = read_bundle(path2)\n",
    "object_ = read_bundle(path)\n",
    "object_ = object_[0:2]"
   ]
  },
  {
   "cell_type": "code",
   "execution_count": 5,
   "metadata": {},
   "outputs": [],
   "source": [
    "def calculate_distance(fiber1, fiber2, umbral):\n",
    "    distances = []\n",
    "    for k in range(0, fiber1.shape[0]):\n",
    "        session  = tf.Session()\n",
    "        distance = tf.sqrt(tf.reduce_sum(tf.square(tf.subtract(fiber1[k],fiber2[k]))))\n",
    "        d = session.run(distance)\n",
    "        if d > umbral:\n",
    "            return d\n",
    "        else:\n",
    "            distances.append(d)\n",
    "    return np.max(distances)"
   ]
  },
  {
   "cell_type": "code",
   "execution_count": null,
   "metadata": {},
   "outputs": [],
   "source": [
    "fiber = []\n",
    "t0 = time()\n",
    "max_minimu = 99999\n",
    "for o in object_:\n",
    "    for index, (w) in enumerate(whole_brain):\n",
    "        r = calculate_distance(o,w,9)\n",
    "        r2 = calculate_distance(o,w[::-1],9)\n",
    "        minimum = min(r,r2)\n",
    "        if minimum <= 9:\n",
    "            fiber.append([j,index])\n",
    "            print (fiber)\n",
    "t1 = time()\n",
    "print ('Algorithms takes %f' %(t1-t0))"
   ]
  },
  {
   "cell_type": "code",
   "execution_count": null,
   "metadata": {},
   "outputs": [],
   "source": []
  },
  {
   "cell_type": "code",
   "execution_count": null,
   "metadata": {},
   "outputs": [],
   "source": [
    "times = [33.21, 237.56, ]\n",
    "times2 = [1.06,6.45,16.37]"
   ]
  },
  {
   "cell_type": "code",
   "execution_count": null,
   "metadata": {},
   "outputs": [],
   "source": [
    "import matplotlib.pyplot as plt\n"
   ]
  },
  {
   "cell_type": "code",
   "execution_count": null,
   "metadata": {},
   "outputs": [],
   "source": []
  }
 ],
 "metadata": {
  "kernelspec": {
   "display_name": "Python 3",
   "language": "python",
   "name": "python3"
  },
  "language_info": {
   "codemirror_mode": {
    "name": "ipython",
    "version": 3
   },
   "file_extension": ".py",
   "mimetype": "text/x-python",
   "name": "python",
   "nbconvert_exporter": "python",
   "pygments_lexer": "ipython3",
   "version": "3.5.2"
  }
 },
 "nbformat": 4,
 "nbformat_minor": 2
}
